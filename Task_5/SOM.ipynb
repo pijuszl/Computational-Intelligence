{
  "cells": [
    {
      "cell_type": "markdown",
      "metadata": {},
      "source": [
        "## Naudojamų kodo bibliotekų įkėlimas"
      ]
    },
    {
      "cell_type": "code",
      "execution_count": 10,
      "metadata": {
        "id": "XSmsQp4hvw7Z"
      },
      "outputs": [],
      "source": [
        "import numpy as np\n",
        "import tensorflow as tf\n",
        "from sklearn.datasets import load_iris\n",
        "from sklearn.preprocessing import StandardScaler\n",
        "import matplotlib.pyplot as plt\n",
        "from matplotlib.colors import ListedColormap\n",
        "from matplotlib.animation import FuncAnimation, PillowWriter"
      ]
    },
    {
      "cell_type": "markdown",
      "metadata": {},
      "source": [
        "## Naudojamo GPU pasiekiamumo tikrinimas"
      ]
    },
    {
      "cell_type": "code",
      "execution_count": 11,
      "metadata": {
        "colab": {
          "base_uri": "https://localhost:8080/"
        },
        "id": "7kqjsgmLv6En",
        "outputId": "c96e3c2c-3e36-4afe-a807-36e9ef5cdc61"
      },
      "outputs": [
        {
          "name": "stdout",
          "output_type": "stream",
          "text": [
            "PhysicalDevice(name='/physical_device:CPU:0', device_type='CPU')\n",
            "PhysicalDevice(name='/physical_device:GPU:0', device_type='GPU')\n"
          ]
        }
      ],
      "source": [
        "def check_for_gpu():\n",
        "    devices = tf.config.list_physical_devices()\n",
        "    for device in devices:\n",
        "        print(device)\n",
        "\n",
        "check_for_gpu()"
      ]
    },
    {
      "cell_type": "markdown",
      "metadata": {},
      "source": [
        "## Irisų duomenų užkrovimas"
      ]
    },
    {
      "cell_type": "code",
      "execution_count": 12,
      "metadata": {
        "id": "FL0FXolLv4Mv"
      },
      "outputs": [],
      "source": [
        "def load_iris_data():\n",
        "    # Užkraunami duomenys iš sklearn.datasets\n",
        "    iris = load_iris()\n",
        "    data = iris.data\n",
        "    labels = iris.target\n",
        "\n",
        "    # Normalizuojami duomenis\n",
        "    scaler = StandardScaler()\n",
        "    data = scaler.fit_transform(data)\n",
        "    return data, labels"
      ]
    },
    {
      "cell_type": "markdown",
      "metadata": {},
      "source": [
        "## SOM implementacija\n",
        "Sukuriama SOM klasė, kurią galima nesunkiai keisti"
      ]
    },
    {
      "cell_type": "code",
      "execution_count": 13,
      "metadata": {},
      "outputs": [],
      "source": [
        "class SelfOrganizingMap:\n",
        "    def __init__(self, m, n, dim, num_epochs, alpha=None, sigma=None):\n",
        "        # Inicializuojamos klasės savybės\n",
        "        self.m = m  # Eilučių skaičius tinkle\n",
        "        self.n = n  # Stulpelių skaičius tinkle\n",
        "        self.dim = dim  # Įėjimo vektoriaus dimensija\n",
        "        self.num_epochs = num_epochs  # Mokymo epochų skaičius\n",
        "        self.alpha = alpha if alpha else 0.5  # Mokymosi greitis, numatytasis 0.5\n",
        "        self.sigma = sigma if sigma else max(m, n) / 2.0  # Kaimynystės spindulys, numatytasis pusė tinklelio dydžio\n",
        "        self.graph = tf.Graph()  # Sukuriama TensorFlow grafinė struktūra\n",
        "\n",
        "        # Apibrėžiama TensorFlow grafiko kontekste\n",
        "        with self.graph.as_default():\n",
        "            # Inicializuojami neuronų svoriai atsitiktiniais skaičiais\n",
        "            self.weights = tf.Variable(tf.random.normal([m * n, dim]), name='weights')\n",
        "            # Vietos laikymui įėjimo duomenims ir dabartinei iteracijai\n",
        "            self.input = tf.compat.v1.placeholder(tf.float32, [dim], name='input')\n",
        "            self.iteration = tf.compat.v1.placeholder(tf.float32, name='iteration')\n",
        "\n",
        "            # Apskaičiuojamas geriausias atitikmuo (BMU)\n",
        "            bmu_index = self._get_bmu_index()\n",
        "            bmu_loc = self._get_bmu_location(bmu_index)\n",
        "\n",
        "            # Mokymosi greičio ir kaimynystės spindulio mažėjimo funkcijos\n",
        "            learning_rate_op = self._learning_rate_decay()\n",
        "            sigma_op = self._sigma_decay()\n",
        "\n",
        "            # Apskaičiuojama kaimynystės funkcija\n",
        "            neighborhood_func = tf.exp(-tf.reduce_sum(tf.square(bmu_loc - self._location_vectors()), axis=1) / (2 * tf.square(sigma_op)))\n",
        "\n",
        "            # Mokymosi greitis dauginamas iš kaimynystės funkcijos\n",
        "            learning_rate_op *= neighborhood_func\n",
        "\n",
        "            # Svorio atnaujinimo formulė\n",
        "            delta = learning_rate_op[:, tf.newaxis] * (self.input - self.weights)\n",
        "            new_weights = self.weights.assign_add(delta)\n",
        "\n",
        "            # Grupė TensorFlow operacijų svorių atnaujinimui\n",
        "            self.training_op = tf.group(new_weights)\n",
        "\n",
        "            # Inicializuojama visos TensorFlow kintamosios\n",
        "            self.init_op = tf.compat.v1.global_variables_initializer()\n",
        "\n",
        "    # Funkcija geriausiam atitikmeniui (BMU) rasti\n",
        "    def _get_bmu_index(self):\n",
        "        expanded_input = tf.expand_dims(self.input, 0)\n",
        "        distances = tf.reduce_sum(tf.square(self.weights - expanded_input), axis=1)\n",
        "        return tf.argmin(distances, axis=0)\n",
        "\n",
        "    # Funkcija BMU vietai rasti\n",
        "    def _get_bmu_location(self, bmu_index):\n",
        "        bmu_index = tf.cast(bmu_index, tf.int32)\n",
        "        return tf.cast(bmu_index // self.n, tf.float32), tf.cast(tf.math.floormod(bmu_index, self.n), tf.float32)\n",
        "\n",
        "    # Funkcija visų vietos vektorių generavimui\n",
        "    def _location_vectors(self):\n",
        "        x = tf.cast(tf.range(self.m), tf.float32)\n",
        "        y = tf.cast(tf.range(self.n), tf.float32)\n",
        "        x, y = tf.meshgrid(x, y)\n",
        "        return tf.stack([tf.reshape(x, [-1]), tf.reshape(y, [-1])], axis=1)\n",
        "\n",
        "    # Mokymosi greičio mažėjimo funkcija\n",
        "    def _learning_rate_decay(self):\n",
        "        return self.alpha * (1 - self.iteration / self.num_epochs)\n",
        "\n",
        "    # Kaimynystės spindulio mažėjimo funkcija\n",
        "    def _sigma_decay(self):\n",
        "        return self.sigma * (1 - self.iteration / self.num_epochs)\n",
        "\n",
        "    # Funkcija tinklo mokymui\n",
        "    def train(self, data):\n",
        "        self.weights_history = []  # Sąrašas svorio istorijai saugoti\n",
        "        with tf.compat.v1.Session(graph=self.graph) as sess:\n",
        "            sess.run(self.init_op)\n",
        "            for epoch in range(self.num_epochs):\n",
        "                for sample in data:\n",
        "                    feed_dict = {self.input: sample, self.iteration: epoch}\n",
        "                    sess.run(self.training_op, feed_dict=feed_dict)\n",
        "                self.weights_history.append(sess.run(self.weights))\n",
        "            self.trained_weights = sess.run(self.weights)\n",
        "\n",
        "    # Funkcija, skirta žemėlapiuoti duomenis į neuronų tinkle\n",
        "    def map_vects(self, data):\n",
        "        with tf.compat.v1.Session(graph=self.graph) as sess:\n",
        "            sess.run(self.init_op)\n",
        "            mapped = []\n",
        "            for sample in data:\n",
        "                bmu_idx = sess.run(self._get_bmu_index(), feed_dict={self.input: sample})\n",
        "                mapped.append(divmod(bmu_idx, self.n))\n",
        "        return mapped\n",
        "\n",
        "    # Funkcija kvantizacijos klaidai apskaičiuoti\n",
        "    def quantization_error(self, data):\n",
        "        error = 0\n",
        "        with tf.compat.v1.Session(graph=self.graph) as sess:\n",
        "            sess.run(self.init_op)\n",
        "            for sample in data:\n",
        "                bmu_idx = sess.run(self._get_bmu_index(), feed_dict={self.input: sample})\n",
        "                bmu_weight = sess.run(self.weights[bmu_idx])\n",
        "                error += np.linalg.norm(sample - bmu_weight)\n",
        "        return error / len(data)\n"
      ]
    },
    {
      "cell_type": "markdown",
      "metadata": {},
      "source": [
        "## SOM neprižiūrimas mokymas"
      ]
    },
    {
      "cell_type": "code",
      "execution_count": 14,
      "metadata": {
        "id": "LCs2wKJ7FZQH"
      },
      "outputs": [],
      "source": [
        "def train_som(data, som_size=(10, 10), num_epochs=100):\n",
        "    # Gaunami SOM tinklo dydžio parametrai\n",
        "    m, n = som_size\n",
        "    \n",
        "    print()\n",
        "    '''\n",
        "    Sukuriamas SOM objektas su nurodytais parametrais:\n",
        "    - tinklo dydžiu (m x n)\n",
        "    - įėjimo vektoriaus dimensija (data.shape[1])\n",
        "    - epochų skaičiumi (num_epochs)\n",
        "    - mokymosi greičiu (lr)\n",
        "    - kaimynystės spinduliu (radius)\n",
        "    '''\n",
        "    som = SelfOrganizingMap(m, n, data.shape[1], num_epochs)\n",
        "    \n",
        "    # Treniruojamas SOM su pateiktais duomenimis\n",
        "    som.train(data)\n",
        "    \n",
        "    # Gaunami ištreniruoti svoriai\n",
        "    weights = som.trained_weights\n",
        "    \n",
        "    # Susiejami duomenų taškai su neuronais (BMU indeksai)\n",
        "    bmu_indices = som.map_vects(data)\n",
        "    \n",
        "    # Apskaičiuojama kvantizacijos klaida\n",
        "    quantization_error = som.quantization_error(data)\n",
        "\n",
        "    # Grąžinami SOM objektas, svoriai, BMU indeksai ir kvantizacijos klaida\n",
        "    return som, weights, bmu_indices, quantization_error"
      ]
    },
    {
      "cell_type": "markdown",
      "metadata": {},
      "source": [
        "## SOM lentelės atvaizdavimas"
      ]
    },
    {
      "cell_type": "code",
      "execution_count": 15,
      "metadata": {
        "id": "EMmbTjG6wAMd"
      },
      "outputs": [],
      "source": [
        "# Funkcija SOM rezultatų atvaizdavimui\n",
        "def plot_som(som, data, labels, dim, epochs):\n",
        "    m, n = dim  # Nustatomi tinklo matmenys\n",
        "    grid = np.zeros((som.m, som.n))  # Sukuriama tinklelio matrica\n",
        "    neuron_to_data = {i: [] for i in range(som.m * som.n)}  # Sukuriamas žemėlapis neuronų duomenims saugoti\n",
        "    weights = som.trained_weights  # Gaunami galutiniai treniruoti svoriai\n",
        "\n",
        "    # Priskiriami duomenų taškai neuronams pagal BMU\n",
        "    for idx, label in enumerate(labels):\n",
        "        bmu_idx = np.unravel_index(np.argmin(np.linalg.norm(weights - data[idx], axis=1)), (som.m, som.n))\n",
        "        grid[bmu_idx[0], bmu_idx[1]] = label + 1\n",
        "        neuron_to_data[bmu_idx[0] * som.n + bmu_idx[1]].append(label + 1)\n",
        "\n",
        "    fig, ax = plt.subplots()  # Sukuriamas paveikslas ir ašis\n",
        "    cmap = ListedColormap(plt.colormaps[\"viridis\"](np.linspace(0, 1, 4)))  # Sukuriama spalvų paletė\n",
        "    im = ax.imshow(grid, cmap=cmap, origin='upper')  # Atvaizduojamas tinklelis\n",
        "    ax.set_title(f\"SOM ({m}x{n}) lentelė apmokyta su {epochs} epochų\")  # Nustatomas pavadinimas su epochos numeriu\n",
        "    cbar = fig.colorbar(im, ticks=[0, 1, 2, 3])  # Pridedama spalvų juosta su žymėmis\n",
        "    cbar.ax.set_yticklabels(['', 'Setosa', 'Versicolor', 'Virginica'])  # Nustatomos spalvų juostos etiketės\n",
        "\n",
        "    # Pridedami unikalių klasių numerių anotacijos kiekviename neurone\n",
        "    for i in range(som.m):\n",
        "        for j in range(som.n):\n",
        "            neuron_data = neuron_to_data[i * som.n + j]\n",
        "            if neuron_data:\n",
        "                distinct_classes = sorted(set(neuron_data))\n",
        "                text = \"\\n\".join(map(str, distinct_classes))\n",
        "                ax.text(j, i, text, ha='center', va='center', color='black', fontsize=8)  # Anotuojami unikalūs klasių numeriai\n",
        "\n",
        "    plt.show()\n",
        "\n",
        "# Funkcija SOM mokymo animacijos kūrimui\n",
        "def create_som_gif(som, data, labels, filename=\"som_training.gif\"):\n",
        "    fig, ax = plt.subplots()  # Sukuriamas paveikslas ir ašis\n",
        "    cmap = ListedColormap(plt.colormaps[\"viridis\"](np.linspace(0, 1, 4)))  # Sukuriama spalvų paletė\n",
        "\n",
        "    # Atnaujinimo funkcija animacijai\n",
        "    def update(frame):\n",
        "        ax.clear()  # Išvaloma ašis\n",
        "        weights = som.weights_history[frame]\n",
        "        grid = np.zeros((som.m, som.n))  # Sukuriama tinklelio matrica\n",
        "        neuron_to_data = {i: [] for i in range(som.m * som.n)}  # Sukuriamas žemėlapis neuronų duomenims saugoti\n",
        "        for idx, label in enumerate(labels):\n",
        "            bmu_idx = np.unravel_index(np.argmin(np.linalg.norm(weights - data[idx], axis=1)), (som.m, som.n))\n",
        "            grid[bmu_idx[0], bmu_idx[1]] = label + 1\n",
        "            neuron_to_data[bmu_idx[0] * som.n + bmu_idx[1]].append(label + 1)\n",
        "        im = ax.imshow(grid, cmap=cmap, origin='upper')  # Atvaizduojamas tinklelis\n",
        "        ax.set_title(f\"Epoch {frame + 1}\")  # Nustatomas pavadinimas su epochos numeriu\n",
        "        ax.legend(handles=[plt.Line2D([0], [0], marker='o', color='w', label='Setosa', markerfacecolor=cmap(1), markersize=10),\n",
        "                           plt.Line2D([0], [0], marker='o', color='w', label='Versicolor', markerfacecolor=cmap(2), markersize=10),\n",
        "                           plt.Line2D([0], [0], marker='o', color='w', label='Virginica', markerfacecolor=cmap(3), markersize=10)])  # Pridedama legenda\n",
        "\n",
        "        # Pridedami unikalių klasių numerių anotacijos kiekviename neurone\n",
        "        for i in range(som.m):\n",
        "            for j in range(som.n):\n",
        "                neuron_data = neuron_to_data[i * som.n + j]\n",
        "                if neuron_data:\n",
        "                    distinct_classes = sorted(set(neuron_data))\n",
        "                    text = \"\\n\".join(map(str, distinct_classes))\n",
        "                    ax.text(j, i, text, ha='center', va='center', color='black', fontsize=8)  # Anotuojami unikalūs klasių numeriai\n",
        "\n",
        "        return [im]  # Grąžinamas atvaizdas\n",
        "\n",
        "    anim = FuncAnimation(fig, update, frames=len(som.weights_history), blit=True)  # Sukuriama animacija\n",
        "    writer = PillowWriter(fps=5)  # Nustatomas animacijos rašytojas\n",
        "    anim.save(filename, writer=writer)  # Išsaugoma animacija\n",
        "    plt.close(fig)"
      ]
    },
    {
      "cell_type": "markdown",
      "metadata": {},
      "source": [
        "# Kodo vykdymas"
      ]
    },
    {
      "cell_type": "markdown",
      "metadata": {},
      "source": [
        "## Pradiniai duomenys"
      ]
    },
    {
      "cell_type": "code",
      "execution_count": 22,
      "metadata": {
        "id": "vq-3REZezSKZ"
      },
      "outputs": [],
      "source": [
        "# Epochų skaičius\n",
        "epochs = 50\n",
        "\n",
        "# SOM lentelės dydis\n",
        "dim = (5, 5)"
      ]
    },
    {
      "cell_type": "markdown",
      "metadata": {},
      "source": [
        "## Atliktų skaičiavimų spausdinimas"
      ]
    },
    {
      "cell_type": "code",
      "execution_count": 23,
      "metadata": {
        "colab": {
          "base_uri": "https://localhost:8080/"
        },
        "id": "4MVvxLuSwDqY",
        "outputId": "6ad68556-e481-47af-a019-a846495619f4"
      },
      "outputs": [
        {
          "name": "stdout",
          "output_type": "stream",
          "text": [
            "\n",
            "SOM Neuron Weights:\n",
            "[[-0.5694789   1.9819765  -1.2660614  -1.2222664 ]\n",
            " [-1.1025788   1.0617476  -1.3125368  -1.216709  ]\n",
            " [-1.3822035   0.06096344 -1.3316965  -1.3229498 ]\n",
            " [-0.9219183  -1.3926746  -0.40733308 -0.37121636]\n",
            " [-0.20876792 -1.5046595   0.23013443  0.08607648]\n",
            " [-1.1060517   1.062638   -1.3141528  -1.2200007 ]\n",
            " [-0.7921243   0.7863784  -1.2815796  -1.2255881 ]\n",
            " [-0.33030823 -0.01274295 -0.3719474  -0.43255746]\n",
            " [-0.18408789 -0.48964182  0.24468379  0.13349402]\n",
            " [ 0.11463585 -0.98466015  0.7299166   0.7286708 ]\n",
            " [-1.3827823   0.06258784 -1.3317477  -1.3224865 ]\n",
            " [-0.32712686 -0.01025652 -0.3735949  -0.43525422]\n",
            " [ 0.7912963  -0.35800675  0.46135855  0.2515448 ]\n",
            " [ 0.23733625 -0.0657743   0.54606557  0.5679541 ]\n",
            " [ 0.5728915  -0.63757515  0.88008577  1.0259807 ]\n",
            " [-0.9164971  -1.3969593  -0.41405576 -0.37147254]\n",
            " [-0.18277171 -0.4909644   0.2420276   0.1256487 ]\n",
            " [ 0.23598167 -0.06200249  0.5445541   0.5660035 ]\n",
            " [ 0.88945323  0.12909329  0.7159317   0.6673492 ]\n",
            " [ 1.002688    0.34527594  1.0378339   1.4432892 ]\n",
            " [-0.20234141 -1.500934    0.22912538  0.0796361 ]\n",
            " [ 0.1180419  -0.9857073   0.7221821   0.72887415]\n",
            " [ 0.5660718  -0.64504784  0.89531875  1.0243136 ]\n",
            " [ 1.0022094   0.3450405   1.0369941   1.4461097 ]\n",
            " [ 2.0138445   0.07505648  1.4457827   1.0657985 ]]\n",
            "\n",
            "Winning Neurons and Assigned Data Objects:\n",
            "Neuron (4, 3) is assigned data objects [0, 4, 5, 7, 10, 16, 17, 18, 19, 20, 21, 23, 24, 26, 27, 28, 31, 32, 33, 36, 37, 39, 40, 43, 44, 46, 48]\n",
            "Neuron (1, 0) is assigned data objects [1, 3, 8, 9, 12, 13, 25, 30, 34, 38, 41, 45]\n",
            "Neuron (0, 0) is assigned data objects [2, 6, 11, 22, 29, 35, 42, 47, 49]\n",
            "Neuron (2, 3) is assigned data objects [14, 15]\n",
            "Neuron (2, 4) is assigned data objects [50, 51, 58, 61, 63, 65, 66, 73, 74, 75, 78, 84, 86, 88, 91, 95, 96, 97, 133]\n",
            "Neuron (3, 3) is assigned data objects [52, 56, 70, 77, 100, 101, 103, 104, 109, 110, 114, 115, 116, 117, 120, 121, 124, 126, 127, 131, 136, 137, 138, 140, 142, 143, 144, 147, 148, 149]\n",
            "Neuron (3, 2) is assigned data objects [53, 55, 60, 62, 67, 68, 69, 71, 72, 79, 80, 81, 82, 83, 87, 89, 90, 92, 93, 94, 99, 106, 113, 119]\n",
            "Neuron (1, 3) is assigned data objects [54, 76, 108]\n",
            "Neuron (2, 1) is assigned data objects [57, 59, 98]\n",
            "Neuron (3, 4) is assigned data objects [64]\n",
            "Neuron (4, 4) is assigned data objects [85]\n",
            "Neuron (4, 0) is assigned data objects [102, 105, 107, 111, 112, 118, 122, 123, 125, 128, 129, 130, 132, 135, 139, 141, 145, 146]\n",
            "Neuron (0, 2) is assigned data objects [134]\n",
            "\n",
            "Quantization Error:\n",
            "1.1532380179233848\n"
          ]
        }
      ],
      "source": [
        "data, labels = load_iris_data()\n",
        "som, weights, bmu_indices, quantization_error = train_som(data, dim, epochs)\n",
        "\n",
        "print(\"SOM Neuron Weights:\")\n",
        "print(weights)\n",
        "print(\"\\nWinning Neurons and Assigned Data Objects:\")\n",
        "neuron_to_data = {}\n",
        "for i, bmu in enumerate(bmu_indices):\n",
        "  if bmu not in neuron_to_data:\n",
        "    neuron_to_data[bmu] = []\n",
        "  neuron_to_data[bmu].append(i)\n",
        "for neuron, data_objects in neuron_to_data.items():\n",
        "  print(f\"Neuron {neuron} is assigned data objects {data_objects}\")\n",
        "\n",
        "print(\"\\nQuantization Error:\")\n",
        "print(quantization_error)"
      ]
    },
    {
      "cell_type": "markdown",
      "metadata": {},
      "source": [
        "## Sukuriamas mokymosi ciklo atvaizdavimas ir paskutinės epochos SOM"
      ]
    },
    {
      "cell_type": "code",
      "execution_count": 24,
      "metadata": {
        "colab": {
          "base_uri": "https://localhost:8080/",
          "height": 435
        },
        "id": "wLYFVjjvwFfh",
        "outputId": "00ca6383-1f55-40a0-85cb-e3f7fe733190"
      },
      "outputs": [
        {
          "data": {
            "image/png": "[encoded data removed]",
            "text/plain": [
              "<Figure size 640x480 with 2 Axes>"
            ]
          },
          "metadata": {},
          "output_type": "display_data"
        }
      ],
      "source": [
        "create_som_gif(som, data, labels, \"som_training1.gif\")\n",
        "plot_som(som, data, labels, dim, epochs)"
      ]
    }
  ],
  "metadata": {
    "accelerator": "GPU",
    "colab": {
      "gpuType": "T4",
      "provenance": []
    },
    "kernelspec": {
      "display_name": "Python 3",
      "name": "python3"
    },
    "language_info": {
      "codemirror_mode": {
        "name": "ipython",
        "version": 3
      },
      "file_extension": ".py",
      "mimetype": "text/x-python",
      "name": "python",
      "nbconvert_exporter": "python",
      "pygments_lexer": "ipython3",
      "version": "3.10.14"
    }
  },
  "nbformat": 4,
  "nbformat_minor": 0
}
